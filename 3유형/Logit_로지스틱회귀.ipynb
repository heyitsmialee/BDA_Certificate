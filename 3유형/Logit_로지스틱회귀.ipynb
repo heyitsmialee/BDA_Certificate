{
  "metadata": {
    "kernelspec": {
      "language": "python",
      "display_name": "Python 3",
      "name": "python3"
    },
    "language_info": {
      "name": "python",
      "version": "3.10.13",
      "mimetype": "text/x-python",
      "codemirror_mode": {
        "name": "ipython",
        "version": 3
      },
      "pygments_lexer": "ipython3",
      "nbconvert_exporter": "python",
      "file_extension": ".py"
    },
    "kaggle": {
      "accelerator": "none",
      "dataSources": [
        {
          "sourceId": 12211878,
          "sourceType": "datasetVersion",
          "datasetId": 1633303
        }
      ],
      "dockerImageVersionId": 30732,
      "isInternetEnabled": false,
      "language": "python",
      "sourceType": "notebook",
      "isGpuEnabled": false
    },
    "colab": {
      "name": "t3-logit-py",
      "provenance": []
    }
  },
  "nbformat_minor": 0,
  "nbformat": 4,
  "cells": [
    {
      "source": [
        "# IMPORTANT: RUN THIS CELL IN ORDER TO IMPORT YOUR KAGGLE DATA SOURCES,\n",
        "# THEN FEEL FREE TO DELETE THIS CELL.\n",
        "# NOTE: THIS NOTEBOOK ENVIRONMENT DIFFERS FROM KAGGLE'S PYTHON\n",
        "# ENVIRONMENT SO THERE MAY BE MISSING LIBRARIES USED BY YOUR\n",
        "# NOTEBOOK.\n",
        "import kagglehub\n",
        "agileteam_bigdatacertificationkr_path = kagglehub.dataset_download('agileteam/bigdatacertificationkr')\n",
        "\n",
        "print('Data source import complete.')\n"
      ],
      "metadata": {
        "id": "i_Y9i_6rxgiC"
      },
      "cell_type": "code",
      "outputs": [],
      "execution_count": null
    },
    {
      "cell_type": "markdown",
      "source": [
        "고객 정보를 나타낸 데이터이다. 주어진 데이터에서 500개 중 앞에서부터 350개는 train으로, 150개는 test 데이터로 나눈다. 모델을 학습(적합)할 때는 train 데이터를 사용하고, 예측할 때는 test 데이터를 사용한다. 모델은 로지스틱 회귀를 써서 고객이 특정 제품을 구매할지 여부를 예측하되, 페널티는 부과하지 않는다.\n",
        "\n",
        "종속변수: purchase (0: 구매 안 함, 1: 구매 함)\n",
        "\n",
        "- 문제 1-1. income 변수를 독립변수로 purchase를 종속변수로 사용하여 로지스틱 회귀 모형을 만들고, income 변수가 한 단위 증가할 때 구매할 오즈비 값을 계산하시오. (반올림하여 소수 넷째자리까지 계산)\n",
        "\n",
        "- 문제 1-2. 독립변수 income만 사용해 학습한 모델에서 test 데이터의 purchase를 예측하고, accuracy (정확도)를 구하시오. (반올림하여 소수 셋째자리까지 계산)\n",
        "\n",
        "- 문제 1-3. 독립변수 income만 사용해 학습한 모델의 로짓 우도를 계산하시오.\n",
        "\n",
        "- 문제 1-4. 독립변수 income만 사용해 학습한 모델의 유의확률(p-value)를 구하시오."
      ],
      "metadata": {
        "id": "QC1pckX0xgiE"
      }
    },
    {
      "cell_type": "code",
      "source": [
        "import pandas as pd\n",
        "df = pd.read_csv(\"/kaggle/input/bigdatacertificationkr/Customer_Data.csv\")"
      ],
      "metadata": {
        "_uuid": "8f2839f25d086af736a60e9eeb907d3b93b6e0e5",
        "_cell_guid": "b1076dfc-b9ad-4769-8c92-a6c4dae69d19",
        "execution": {
          "iopub.status.busy": "2025-06-19T14:53:54.280114Z",
          "iopub.execute_input": "2025-06-19T14:53:54.280442Z",
          "iopub.status.idle": "2025-06-19T14:53:54.287491Z",
          "shell.execute_reply.started": "2025-06-19T14:53:54.280418Z",
          "shell.execute_reply": "2025-06-19T14:53:54.286556Z"
        },
        "trusted": true,
        "id": "11iPBHitxgiF"
      },
      "outputs": [],
      "execution_count": null
    },
    {
      "cell_type": "code",
      "source": [
        "import pandas as pd\n",
        "import numpy as np\n",
        "from statsmodels.formula.api import logit\n",
        "\n",
        "# 데이터셋 분할\n",
        "train = df.iloc[:350]\n",
        "test = df.iloc[350:]\n",
        "train.info()"
      ],
      "metadata": {
        "trusted": true,
        "execution": {
          "iopub.status.busy": "2025-06-19T14:54:58.657318Z",
          "iopub.execute_input": "2025-06-19T14:54:58.658223Z",
          "iopub.status.idle": "2025-06-19T14:54:58.66771Z",
          "shell.execute_reply.started": "2025-06-19T14:54:58.65819Z",
          "shell.execute_reply": "2025-06-19T14:54:58.666884Z"
        },
        "id": "zHU4tUHpxgiG",
        "outputId": "bdc73e34-9e72-47a7-8853-e7d0d42a6809"
      },
      "outputs": [
        {
          "name": "stdout",
          "text": "<class 'pandas.core.frame.DataFrame'>\nRangeIndex: 350 entries, 0 to 349\nData columns (total 6 columns):\n #   Column          Non-Null Count  Dtype\n---  ------          --------------  -----\n 0   age             350 non-null    int64\n 1   income          350 non-null    int64\n 2   marital_status  350 non-null    int64\n 3   children        350 non-null    int64\n 4   gender          350 non-null    int64\n 5   purchase        350 non-null    int64\ndtypes: int64(6)\nmemory usage: 16.5 KB\n",
          "output_type": "stream"
        }
      ],
      "execution_count": null
    },
    {
      "cell_type": "code",
      "source": [
        "# 문제 1-1. income 변수를 독립변수로 purchase를 종속변수로 사용하여 로지스틱 회귀 모형을 만들고,\n",
        "# income 변수가 한 단위 증가할 때 구매할 오즈비 값을 계산하시오. (반올림하여 소수 넷째자리까지 계산)\n",
        "\n",
        "model = logit('purchase ~ income', data=train).fit()\n",
        "model.summary()\n",
        "\n",
        "# 오즈비 계산\n",
        "odds_ratio = np.exp(model.params['income'])\n",
        "odds_ratio"
      ],
      "metadata": {
        "trusted": true,
        "execution": {
          "iopub.status.busy": "2025-06-19T15:07:08.756262Z",
          "iopub.execute_input": "2025-06-19T15:07:08.756594Z",
          "iopub.status.idle": "2025-06-19T15:07:08.782007Z",
          "shell.execute_reply.started": "2025-06-19T15:07:08.75657Z",
          "shell.execute_reply": "2025-06-19T15:07:08.781124Z"
        },
        "id": "BdNt0C5ExgiH",
        "outputId": "32fbc543-b018-4c75-c272-52d14c24591a"
      },
      "outputs": [
        {
          "name": "stdout",
          "text": "Optimization terminated successfully.\n         Current function value: 0.692599\n         Iterations 3\n",
          "output_type": "stream"
        },
        {
          "execution_count": 25,
          "output_type": "execute_result",
          "data": {
            "text/plain": "1.0000019601805765"
          },
          "metadata": {}
        }
      ],
      "execution_count": null
    },
    {
      "cell_type": "code",
      "source": [
        "# 문제 1-2. 독립변수 income만 사용해 학습한 모델에서 test 데이터의 purchase를 예측하고,\n",
        "# accuracy (정확도)를 구하시오. (반올림하여 소수 셋째자리까지 계산)\n",
        "from sklearn.metrics import accuracy_score\n",
        "\n",
        "y = test['purchase']\n",
        "y_pred = model.predict(test)\n",
        "y_pred = y_pred.map(lambda x : 1 if x>=0.5 else 0)\n",
        "y_pred.value_counts()\n",
        "score = accuracy_score(y, y_pred)\n",
        "score"
      ],
      "metadata": {
        "trusted": true,
        "execution": {
          "iopub.status.busy": "2025-06-19T15:16:45.949098Z",
          "iopub.execute_input": "2025-06-19T15:16:45.949466Z",
          "iopub.status.idle": "2025-06-19T15:16:45.962814Z",
          "shell.execute_reply.started": "2025-06-19T15:16:45.94944Z",
          "shell.execute_reply": "2025-06-19T15:16:45.961829Z"
        },
        "id": "0kni2dmwxgiH",
        "outputId": "54d38673-21b9-4214-c636-917c6b8d69cc"
      },
      "outputs": [
        {
          "execution_count": 55,
          "output_type": "execute_result",
          "data": {
            "text/plain": "0.5066666666666667"
          },
          "metadata": {}
        }
      ],
      "execution_count": null
    },
    {
      "cell_type": "code",
      "source": [
        "# 문제 1-3: 독립변수 income만 사용해 학습한 모델의 로짓 우도 계산\n",
        "# 문제 1-4: 독립변수 income만 사용해 학습한 모델의 유의확률(p-value) 계산\n",
        "model.summary()"
      ],
      "metadata": {
        "trusted": true,
        "execution": {
          "iopub.status.busy": "2025-06-19T15:18:43.183082Z",
          "iopub.execute_input": "2025-06-19T15:18:43.183469Z",
          "iopub.status.idle": "2025-06-19T15:18:43.197789Z",
          "shell.execute_reply.started": "2025-06-19T15:18:43.183442Z",
          "shell.execute_reply": "2025-06-19T15:18:43.196639Z"
        },
        "id": "7YUDu1CixgiH",
        "outputId": "5a19f7da-99f9-4f3c-e717-0492398cbb08"
      },
      "outputs": [
        {
          "execution_count": 60,
          "output_type": "execute_result",
          "data": {
            "text/plain": "<class 'statsmodels.iolib.summary.Summary'>\n\"\"\"\n                           Logit Regression Results                           \n==============================================================================\nDep. Variable:               purchase   No. Observations:                  350\nModel:                          Logit   Df Residuals:                      348\nMethod:                           MLE   Df Model:                            1\nDate:                Thu, 19 Jun 2025   Pseudo R-squ.:               0.0005783\nTime:                        15:18:43   Log-Likelihood:                -242.41\nconverged:                       True   LL-Null:                       -242.55\nCovariance Type:            nonrobust   LLR p-value:                    0.5964\n==============================================================================\n                 coef    std err          z      P>|z|      [0.025      0.975]\n------------------------------------------------------------------------------\nIntercept     -0.1043      0.283     -0.369      0.712      -0.658       0.450\nincome       1.96e-06    3.7e-06      0.529      0.596    -5.3e-06    9.22e-06\n==============================================================================\n\"\"\"",
            "text/html": "<table class=\"simpletable\">\n<caption>Logit Regression Results</caption>\n<tr>\n  <th>Dep. Variable:</th>       <td>purchase</td>     <th>  No. Observations:  </th>  <td>   350</td>  \n</tr>\n<tr>\n  <th>Model:</th>                 <td>Logit</td>      <th>  Df Residuals:      </th>  <td>   348</td>  \n</tr>\n<tr>\n  <th>Method:</th>                 <td>MLE</td>       <th>  Df Model:          </th>  <td>     1</td>  \n</tr>\n<tr>\n  <th>Date:</th>            <td>Thu, 19 Jun 2025</td> <th>  Pseudo R-squ.:     </th> <td>0.0005783</td>\n</tr>\n<tr>\n  <th>Time:</th>                <td>15:18:43</td>     <th>  Log-Likelihood:    </th> <td> -242.41</td> \n</tr>\n<tr>\n  <th>converged:</th>             <td>True</td>       <th>  LL-Null:           </th> <td> -242.55</td> \n</tr>\n<tr>\n  <th>Covariance Type:</th>     <td>nonrobust</td>    <th>  LLR p-value:       </th>  <td>0.5964</td>  \n</tr>\n</table>\n<table class=\"simpletable\">\n<tr>\n      <td></td>         <th>coef</th>     <th>std err</th>      <th>z</th>      <th>P>|z|</th>  <th>[0.025</th>    <th>0.975]</th>  \n</tr>\n<tr>\n  <th>Intercept</th> <td>   -0.1043</td> <td>    0.283</td> <td>   -0.369</td> <td> 0.712</td> <td>   -0.658</td> <td>    0.450</td>\n</tr>\n<tr>\n  <th>income</th>    <td>  1.96e-06</td> <td>  3.7e-06</td> <td>    0.529</td> <td> 0.596</td> <td> -5.3e-06</td> <td> 9.22e-06</td>\n</tr>\n</table>",
            "text/latex": "\\begin{center}\n\\begin{tabular}{lclc}\n\\toprule\n\\textbf{Dep. Variable:}   &     purchase     & \\textbf{  No. Observations:  } &      350    \\\\\n\\textbf{Model:}           &      Logit       & \\textbf{  Df Residuals:      } &      348    \\\\\n\\textbf{Method:}          &       MLE        & \\textbf{  Df Model:          } &        1    \\\\\n\\textbf{Date:}            & Thu, 19 Jun 2025 & \\textbf{  Pseudo R-squ.:     } & 0.0005783   \\\\\n\\textbf{Time:}            &     15:18:43     & \\textbf{  Log-Likelihood:    } &   -242.41   \\\\\n\\textbf{converged:}       &       True       & \\textbf{  LL-Null:           } &   -242.55   \\\\\n\\textbf{Covariance Type:} &    nonrobust     & \\textbf{  LLR p-value:       } &   0.5964    \\\\\n\\bottomrule\n\\end{tabular}\n\\begin{tabular}{lcccccc}\n                   & \\textbf{coef} & \\textbf{std err} & \\textbf{z} & \\textbf{P$> |$z$|$} & \\textbf{[0.025} & \\textbf{0.975]}  \\\\\n\\midrule\n\\textbf{Intercept} &      -0.1043  &        0.283     &    -0.369  &         0.712        &       -0.658    &        0.450     \\\\\n\\textbf{income}    &     1.96e-06  &      3.7e-06     &     0.529  &         0.596        &     -5.3e-06    &     9.22e-06     \\\\\n\\bottomrule\n\\end{tabular}\n%\\caption{Logit Regression Results}\n\\end{center}"
          },
          "metadata": {}
        }
      ],
      "execution_count": null
    }
  ]
}