{
  "metadata": {
    "kernelspec": {
      "language": "python",
      "display_name": "Python 3",
      "name": "python3"
    },
    "language_info": {
      "name": "python",
      "version": "3.10.14",
      "mimetype": "text/x-python",
      "codemirror_mode": {
        "name": "ipython",
        "version": 3
      },
      "pygments_lexer": "ipython3",
      "nbconvert_exporter": "python",
      "file_extension": ".py"
    },
    "kaggle": {
      "accelerator": "none",
      "dataSources": [
        {
          "sourceId": 12211878,
          "sourceType": "datasetVersion",
          "datasetId": 1633303
        }
      ],
      "dockerImageVersionId": 30786,
      "isInternetEnabled": false,
      "language": "python",
      "sourceType": "notebook",
      "isGpuEnabled": false
    },
    "colab": {
      "name": "t3-regression-py",
      "provenance": []
    }
  },
  "nbformat_minor": 0,
  "nbformat": 4,
  "cells": [
    {
      "source": [
        "# IMPORTANT: RUN THIS CELL IN ORDER TO IMPORT YOUR KAGGLE DATA SOURCES,\n",
        "# THEN FEEL FREE TO DELETE THIS CELL.\n",
        "# NOTE: THIS NOTEBOOK ENVIRONMENT DIFFERS FROM KAGGLE'S PYTHON\n",
        "# ENVIRONMENT SO THERE MAY BE MISSING LIBRARIES USED BY YOUR\n",
        "# NOTEBOOK.\n",
        "import kagglehub\n",
        "agileteam_bigdatacertificationkr_path = kagglehub.dataset_download('agileteam/bigdatacertificationkr')\n",
        "\n",
        "print('Data source import complete.')\n"
      ],
      "metadata": {
        "id": "KErl4ggfq0rx"
      },
      "cell_type": "code",
      "outputs": [],
      "execution_count": null
    },
    {
      "cell_type": "markdown",
      "source": [
        "1. 모든 변수를 사용하여 OLS 모델을 적합하고, 회귀계수 중 가장 큰 값은?\n",
        "2. 유의미하지 않은 변수를 제거한 후 모델을 다시 적합하고, 회귀계수 중 가장 작은 변수명은?\n",
        "3. 2번 모델의 R-squared 값을 계산하고 해석하세요.\n",
        "4. 1번 모델에서 새로운 데이터(x1=5, x2=12, x3=10, x4=3)에 대해 y 값을 예측하세요.\n",
        "5. 1번 모델에서 x1, x2, x3, x4의 상관관계를 계산하고 가장 큰 상관계수를 구하시오. (단, 자기 상관관계 제외)\n",
        "6. x1과 x2만을 예측 변수로 사용하는 모델을 적합하고, 전체 모델과 R-squared 값을 구하시오.\n",
        "7. 잔차(residual) 분석을 수행하고, 잔차의 표준편차를 구하시오.\n",
        "8. 1번 모델에서 새로운 데이터(x1=5, x2=12, x3=10, x4=3)에 대해 y의 신뢰구간 하한(97% 신뢰수준)을 구하세요.\n",
        "9. 1번 모델에서 새로운 데이터(x1=5, x2=12, x3=10, x4=3)에 대해 y의 예측구간 상한(97% 신뢰수준)을 구하세요."
      ],
      "metadata": {
        "id": "6A0amonWq0rz"
      }
    },
    {
      "cell_type": "code",
      "source": [
        "import pandas as pd\n",
        "data = pd.read_csv(\"/kaggle/input/bigdatacertificationkr/t3_regression_data.csv\")"
      ],
      "metadata": {
        "_uuid": "8f2839f25d086af736a60e9eeb907d3b93b6e0e5",
        "_cell_guid": "b1076dfc-b9ad-4769-8c92-a6c4dae69d19",
        "trusted": true,
        "execution": {
          "iopub.status.busy": "2025-06-19T14:21:02.557752Z",
          "iopub.execute_input": "2025-06-19T14:21:02.558091Z",
          "iopub.status.idle": "2025-06-19T14:21:03.818518Z",
          "shell.execute_reply.started": "2025-06-19T14:21:02.558059Z",
          "shell.execute_reply": "2025-06-19T14:21:03.817144Z"
        },
        "id": "1b41LQs3q0r1"
      },
      "outputs": [],
      "execution_count": null
    },
    {
      "cell_type": "code",
      "source": [
        "# 라이브러리 import\n",
        "import statsmodels.formula.api as smf\n",
        "\n",
        "# 1. 모든 변수를 사용하여 OLS 모델 적합\n",
        "model_full = smf.ols('y ~ x1 + x2 + x3 + x4',data=data).fit()\n",
        "model_full.summary()"
      ],
      "metadata": {
        "trusted": true,
        "execution": {
          "iopub.status.busy": "2025-06-19T14:27:30.068994Z",
          "iopub.execute_input": "2025-06-19T14:27:30.069382Z",
          "iopub.status.idle": "2025-06-19T14:27:30.218229Z",
          "shell.execute_reply.started": "2025-06-19T14:27:30.069347Z",
          "shell.execute_reply": "2025-06-19T14:27:30.217222Z"
        },
        "id": "X9I72cWcq0r1",
        "outputId": "e2f2de5e-6eed-4619-8129-c7f522bc3158"
      },
      "outputs": [
        {
          "execution_count": 10,
          "output_type": "execute_result",
          "data": {
            "text/plain": "<class 'statsmodels.iolib.summary.Summary'>\n\"\"\"\n                            OLS Regression Results                            \n==============================================================================\nDep. Variable:                      y   R-squared:                       0.988\nModel:                            OLS   Adj. R-squared:                  0.988\nMethod:                 Least Squares   F-statistic:                     1984.\nDate:                Thu, 19 Jun 2025   Prob (F-statistic):           1.39e-90\nTime:                        14:27:30   Log-Likelihood:                -130.88\nNo. Observations:                 100   AIC:                             271.8\nDf Residuals:                      95   BIC:                             284.8\nDf Model:                           4                                         \nCovariance Type:            nonrobust                                         \n==============================================================================\n                 coef    std err          t      P>|t|      [0.025      0.975]\n------------------------------------------------------------------------------\nIntercept      2.9816      0.740      4.029      0.000       1.512       4.451\nx1             1.9979      0.030     66.384      0.000       1.938       2.058\nx2            -1.4924      0.034    -44.274      0.000      -1.559      -1.425\nx3             0.4633      0.033     13.837      0.000       0.397       0.530\nx4             0.0203      0.078      0.260      0.796      -0.135       0.175\n==============================================================================\nOmnibus:                        2.161   Durbin-Watson:                   1.921\nProb(Omnibus):                  0.340   Jarque-Bera (JB):                1.718\nSkew:                           0.313   Prob(JB):                        0.424\nKurtosis:                       3.140   Cond. No.                         155.\n==============================================================================\n\nNotes:\n[1] Standard Errors assume that the covariance matrix of the errors is correctly specified.\n\"\"\"",
            "text/html": "<table class=\"simpletable\">\n<caption>OLS Regression Results</caption>\n<tr>\n  <th>Dep. Variable:</th>            <td>y</td>        <th>  R-squared:         </th> <td>   0.988</td>\n</tr>\n<tr>\n  <th>Model:</th>                   <td>OLS</td>       <th>  Adj. R-squared:    </th> <td>   0.988</td>\n</tr>\n<tr>\n  <th>Method:</th>             <td>Least Squares</td>  <th>  F-statistic:       </th> <td>   1984.</td>\n</tr>\n<tr>\n  <th>Date:</th>             <td>Thu, 19 Jun 2025</td> <th>  Prob (F-statistic):</th> <td>1.39e-90</td>\n</tr>\n<tr>\n  <th>Time:</th>                 <td>14:27:30</td>     <th>  Log-Likelihood:    </th> <td> -130.88</td>\n</tr>\n<tr>\n  <th>No. Observations:</th>      <td>   100</td>      <th>  AIC:               </th> <td>   271.8</td>\n</tr>\n<tr>\n  <th>Df Residuals:</th>          <td>    95</td>      <th>  BIC:               </th> <td>   284.8</td>\n</tr>\n<tr>\n  <th>Df Model:</th>              <td>     4</td>      <th>                     </th>     <td> </td>   \n</tr>\n<tr>\n  <th>Covariance Type:</th>      <td>nonrobust</td>    <th>                     </th>     <td> </td>   \n</tr>\n</table>\n<table class=\"simpletable\">\n<tr>\n      <td></td>         <th>coef</th>     <th>std err</th>      <th>t</th>      <th>P>|t|</th>  <th>[0.025</th>    <th>0.975]</th>  \n</tr>\n<tr>\n  <th>Intercept</th> <td>    2.9816</td> <td>    0.740</td> <td>    4.029</td> <td> 0.000</td> <td>    1.512</td> <td>    4.451</td>\n</tr>\n<tr>\n  <th>x1</th>        <td>    1.9979</td> <td>    0.030</td> <td>   66.384</td> <td> 0.000</td> <td>    1.938</td> <td>    2.058</td>\n</tr>\n<tr>\n  <th>x2</th>        <td>   -1.4924</td> <td>    0.034</td> <td>  -44.274</td> <td> 0.000</td> <td>   -1.559</td> <td>   -1.425</td>\n</tr>\n<tr>\n  <th>x3</th>        <td>    0.4633</td> <td>    0.033</td> <td>   13.837</td> <td> 0.000</td> <td>    0.397</td> <td>    0.530</td>\n</tr>\n<tr>\n  <th>x4</th>        <td>    0.0203</td> <td>    0.078</td> <td>    0.260</td> <td> 0.796</td> <td>   -0.135</td> <td>    0.175</td>\n</tr>\n</table>\n<table class=\"simpletable\">\n<tr>\n  <th>Omnibus:</th>       <td> 2.161</td> <th>  Durbin-Watson:     </th> <td>   1.921</td>\n</tr>\n<tr>\n  <th>Prob(Omnibus):</th> <td> 0.340</td> <th>  Jarque-Bera (JB):  </th> <td>   1.718</td>\n</tr>\n<tr>\n  <th>Skew:</th>          <td> 0.313</td> <th>  Prob(JB):          </th> <td>   0.424</td>\n</tr>\n<tr>\n  <th>Kurtosis:</th>      <td> 3.140</td> <th>  Cond. No.          </th> <td>    155.</td>\n</tr>\n</table><br/><br/>Notes:<br/>[1] Standard Errors assume that the covariance matrix of the errors is correctly specified.",
            "text/latex": "\\begin{center}\n\\begin{tabular}{lclc}\n\\toprule\n\\textbf{Dep. Variable:}    &        y         & \\textbf{  R-squared:         } &     0.988   \\\\\n\\textbf{Model:}            &       OLS        & \\textbf{  Adj. R-squared:    } &     0.988   \\\\\n\\textbf{Method:}           &  Least Squares   & \\textbf{  F-statistic:       } &     1984.   \\\\\n\\textbf{Date:}             & Thu, 19 Jun 2025 & \\textbf{  Prob (F-statistic):} &  1.39e-90   \\\\\n\\textbf{Time:}             &     14:27:30     & \\textbf{  Log-Likelihood:    } &   -130.88   \\\\\n\\textbf{No. Observations:} &         100      & \\textbf{  AIC:               } &     271.8   \\\\\n\\textbf{Df Residuals:}     &          95      & \\textbf{  BIC:               } &     284.8   \\\\\n\\textbf{Df Model:}         &           4      & \\textbf{                     } &             \\\\\n\\textbf{Covariance Type:}  &    nonrobust     & \\textbf{                     } &             \\\\\n\\bottomrule\n\\end{tabular}\n\\begin{tabular}{lcccccc}\n                   & \\textbf{coef} & \\textbf{std err} & \\textbf{t} & \\textbf{P$> |$t$|$} & \\textbf{[0.025} & \\textbf{0.975]}  \\\\\n\\midrule\n\\textbf{Intercept} &       2.9816  &        0.740     &     4.029  &         0.000        &        1.512    &        4.451     \\\\\n\\textbf{x1}        &       1.9979  &        0.030     &    66.384  &         0.000        &        1.938    &        2.058     \\\\\n\\textbf{x2}        &      -1.4924  &        0.034     &   -44.274  &         0.000        &       -1.559    &       -1.425     \\\\\n\\textbf{x3}        &       0.4633  &        0.033     &    13.837  &         0.000        &        0.397    &        0.530     \\\\\n\\textbf{x4}        &       0.0203  &        0.078     &     0.260  &         0.796        &       -0.135    &        0.175     \\\\\n\\bottomrule\n\\end{tabular}\n\\begin{tabular}{lclc}\n\\textbf{Omnibus:}       &  2.161 & \\textbf{  Durbin-Watson:     } &    1.921  \\\\\n\\textbf{Prob(Omnibus):} &  0.340 & \\textbf{  Jarque-Bera (JB):  } &    1.718  \\\\\n\\textbf{Skew:}          &  0.313 & \\textbf{  Prob(JB):          } &    0.424  \\\\\n\\textbf{Kurtosis:}      &  3.140 & \\textbf{  Cond. No.          } &     155.  \\\\\n\\bottomrule\n\\end{tabular}\n%\\caption{OLS Regression Results}\n\\end{center}\n\nNotes: \\newline\n [1] Standard Errors assume that the covariance matrix of the errors is correctly specified."
          },
          "metadata": {}
        }
      ],
      "execution_count": null
    },
    {
      "cell_type": "code",
      "source": [
        "# 2. x4 제외하 모델링\n",
        "model_1 = smf.ols('y ~ x1 + x2 + x3',data=data).fit()\n",
        "model_1.summary()"
      ],
      "metadata": {
        "trusted": true,
        "execution": {
          "iopub.status.busy": "2025-06-19T14:28:47.749747Z",
          "iopub.execute_input": "2025-06-19T14:28:47.750144Z",
          "iopub.status.idle": "2025-06-19T14:28:47.789871Z",
          "shell.execute_reply.started": "2025-06-19T14:28:47.750091Z",
          "shell.execute_reply": "2025-06-19T14:28:47.788705Z"
        },
        "id": "MlcJFE_vq0r2",
        "outputId": "7bac87c1-2193-4782-b899-082c6eea6e57"
      },
      "outputs": [
        {
          "execution_count": 11,
          "output_type": "execute_result",
          "data": {
            "text/plain": "<class 'statsmodels.iolib.summary.Summary'>\n\"\"\"\n                            OLS Regression Results                            \n==============================================================================\nDep. Variable:                      y   R-squared:                       0.988\nModel:                            OLS   Adj. R-squared:                  0.988\nMethod:                 Least Squares   F-statistic:                     2672.\nDate:                Thu, 19 Jun 2025   Prob (F-statistic):           2.55e-92\nTime:                        14:28:47   Log-Likelihood:                -130.91\nNo. Observations:                 100   AIC:                             269.8\nDf Residuals:                      96   BIC:                             280.2\nDf Model:                           3                                         \nCovariance Type:            nonrobust                                         \n==============================================================================\n                 coef    std err          t      P>|t|      [0.025      0.975]\n------------------------------------------------------------------------------\nIntercept      3.0628      0.667      4.589      0.000       1.738       4.388\nx1             1.9986      0.030     67.020      0.000       1.939       2.058\nx2            -1.4942      0.033    -45.529      0.000      -1.559      -1.429\nx3             0.4636      0.033     13.923      0.000       0.398       0.530\n==============================================================================\nOmnibus:                        2.285   Durbin-Watson:                   1.931\nProb(Omnibus):                  0.319   Jarque-Bera (JB):                1.836\nSkew:                           0.324   Prob(JB):                        0.399\nKurtosis:                       3.140   Cond. No.                         138.\n==============================================================================\n\nNotes:\n[1] Standard Errors assume that the covariance matrix of the errors is correctly specified.\n\"\"\"",
            "text/html": "<table class=\"simpletable\">\n<caption>OLS Regression Results</caption>\n<tr>\n  <th>Dep. Variable:</th>            <td>y</td>        <th>  R-squared:         </th> <td>   0.988</td>\n</tr>\n<tr>\n  <th>Model:</th>                   <td>OLS</td>       <th>  Adj. R-squared:    </th> <td>   0.988</td>\n</tr>\n<tr>\n  <th>Method:</th>             <td>Least Squares</td>  <th>  F-statistic:       </th> <td>   2672.</td>\n</tr>\n<tr>\n  <th>Date:</th>             <td>Thu, 19 Jun 2025</td> <th>  Prob (F-statistic):</th> <td>2.55e-92</td>\n</tr>\n<tr>\n  <th>Time:</th>                 <td>14:28:47</td>     <th>  Log-Likelihood:    </th> <td> -130.91</td>\n</tr>\n<tr>\n  <th>No. Observations:</th>      <td>   100</td>      <th>  AIC:               </th> <td>   269.8</td>\n</tr>\n<tr>\n  <th>Df Residuals:</th>          <td>    96</td>      <th>  BIC:               </th> <td>   280.2</td>\n</tr>\n<tr>\n  <th>Df Model:</th>              <td>     3</td>      <th>                     </th>     <td> </td>   \n</tr>\n<tr>\n  <th>Covariance Type:</th>      <td>nonrobust</td>    <th>                     </th>     <td> </td>   \n</tr>\n</table>\n<table class=\"simpletable\">\n<tr>\n      <td></td>         <th>coef</th>     <th>std err</th>      <th>t</th>      <th>P>|t|</th>  <th>[0.025</th>    <th>0.975]</th>  \n</tr>\n<tr>\n  <th>Intercept</th> <td>    3.0628</td> <td>    0.667</td> <td>    4.589</td> <td> 0.000</td> <td>    1.738</td> <td>    4.388</td>\n</tr>\n<tr>\n  <th>x1</th>        <td>    1.9986</td> <td>    0.030</td> <td>   67.020</td> <td> 0.000</td> <td>    1.939</td> <td>    2.058</td>\n</tr>\n<tr>\n  <th>x2</th>        <td>   -1.4942</td> <td>    0.033</td> <td>  -45.529</td> <td> 0.000</td> <td>   -1.559</td> <td>   -1.429</td>\n</tr>\n<tr>\n  <th>x3</th>        <td>    0.4636</td> <td>    0.033</td> <td>   13.923</td> <td> 0.000</td> <td>    0.398</td> <td>    0.530</td>\n</tr>\n</table>\n<table class=\"simpletable\">\n<tr>\n  <th>Omnibus:</th>       <td> 2.285</td> <th>  Durbin-Watson:     </th> <td>   1.931</td>\n</tr>\n<tr>\n  <th>Prob(Omnibus):</th> <td> 0.319</td> <th>  Jarque-Bera (JB):  </th> <td>   1.836</td>\n</tr>\n<tr>\n  <th>Skew:</th>          <td> 0.324</td> <th>  Prob(JB):          </th> <td>   0.399</td>\n</tr>\n<tr>\n  <th>Kurtosis:</th>      <td> 3.140</td> <th>  Cond. No.          </th> <td>    138.</td>\n</tr>\n</table><br/><br/>Notes:<br/>[1] Standard Errors assume that the covariance matrix of the errors is correctly specified.",
            "text/latex": "\\begin{center}\n\\begin{tabular}{lclc}\n\\toprule\n\\textbf{Dep. Variable:}    &        y         & \\textbf{  R-squared:         } &     0.988   \\\\\n\\textbf{Model:}            &       OLS        & \\textbf{  Adj. R-squared:    } &     0.988   \\\\\n\\textbf{Method:}           &  Least Squares   & \\textbf{  F-statistic:       } &     2672.   \\\\\n\\textbf{Date:}             & Thu, 19 Jun 2025 & \\textbf{  Prob (F-statistic):} &  2.55e-92   \\\\\n\\textbf{Time:}             &     14:28:47     & \\textbf{  Log-Likelihood:    } &   -130.91   \\\\\n\\textbf{No. Observations:} &         100      & \\textbf{  AIC:               } &     269.8   \\\\\n\\textbf{Df Residuals:}     &          96      & \\textbf{  BIC:               } &     280.2   \\\\\n\\textbf{Df Model:}         &           3      & \\textbf{                     } &             \\\\\n\\textbf{Covariance Type:}  &    nonrobust     & \\textbf{                     } &             \\\\\n\\bottomrule\n\\end{tabular}\n\\begin{tabular}{lcccccc}\n                   & \\textbf{coef} & \\textbf{std err} & \\textbf{t} & \\textbf{P$> |$t$|$} & \\textbf{[0.025} & \\textbf{0.975]}  \\\\\n\\midrule\n\\textbf{Intercept} &       3.0628  &        0.667     &     4.589  &         0.000        &        1.738    &        4.388     \\\\\n\\textbf{x1}        &       1.9986  &        0.030     &    67.020  &         0.000        &        1.939    &        2.058     \\\\\n\\textbf{x2}        &      -1.4942  &        0.033     &   -45.529  &         0.000        &       -1.559    &       -1.429     \\\\\n\\textbf{x3}        &       0.4636  &        0.033     &    13.923  &         0.000        &        0.398    &        0.530     \\\\\n\\bottomrule\n\\end{tabular}\n\\begin{tabular}{lclc}\n\\textbf{Omnibus:}       &  2.285 & \\textbf{  Durbin-Watson:     } &    1.931  \\\\\n\\textbf{Prob(Omnibus):} &  0.319 & \\textbf{  Jarque-Bera (JB):  } &    1.836  \\\\\n\\textbf{Skew:}          &  0.324 & \\textbf{  Prob(JB):          } &    0.399  \\\\\n\\textbf{Kurtosis:}      &  3.140 & \\textbf{  Cond. No.          } &     138.  \\\\\n\\bottomrule\n\\end{tabular}\n%\\caption{OLS Regression Results}\n\\end{center}\n\nNotes: \\newline\n [1] Standard Errors assume that the covariance matrix of the errors is correctly specified."
          },
          "metadata": {}
        }
      ],
      "execution_count": null
    },
    {
      "cell_type": "code",
      "source": [
        "# 1번 모델에서 새로운 데이터(x1=5, x2=12, x3=10, x4=3)에 대해 y 값을 예측하세요.\n",
        "# 1번 모델에서 x1, x2, x3, x4의 상관관계를 계산하고 가장 큰 상관계수를 구하시오. (단, 자기 상관관계 제외)\n",
        "\n",
        "new_data = pd.DataFrame({'x1' : [5], 'x2' : [12], 'x3' : [10], 'x4' : [3]})\n",
        "y_pred = model_full.predict(new_data)\n",
        "print(y_pred)\n",
        "\n",
        "data.corr()"
      ],
      "metadata": {
        "trusted": true,
        "execution": {
          "iopub.status.busy": "2025-06-19T14:34:50.785923Z",
          "iopub.execute_input": "2025-06-19T14:34:50.786446Z",
          "iopub.status.idle": "2025-06-19T14:34:50.814097Z",
          "shell.execute_reply.started": "2025-06-19T14:34:50.786404Z",
          "shell.execute_reply": "2025-06-19T14:34:50.812374Z"
        },
        "id": "xIhsrXrQq0r2",
        "outputId": "6758a3e3-b4f4-4d70-d7a9-79da1664d14f"
      },
      "outputs": [
        {
          "name": "stdout",
          "text": "0   -0.243308\ndtype: float64\n",
          "output_type": "stream"
        },
        {
          "execution_count": 20,
          "output_type": "execute_result",
          "data": {
            "text/plain": "          x1        x2        x3        x4         y\nx1  1.000000 -0.115152  0.080456  0.117670  0.822594\nx2 -0.115152  1.000000 -0.164049 -0.224881 -0.627445\nx3  0.080456 -0.164049  1.000000  0.075652  0.301941\nx4  0.117670 -0.224881  0.075652  1.000000  0.218884\ny   0.822594 -0.627445  0.301941  0.218884  1.000000",
            "text/html": "<div>\n<style scoped>\n    .dataframe tbody tr th:only-of-type {\n        vertical-align: middle;\n    }\n\n    .dataframe tbody tr th {\n        vertical-align: top;\n    }\n\n    .dataframe thead th {\n        text-align: right;\n    }\n</style>\n<table border=\"1\" class=\"dataframe\">\n  <thead>\n    <tr style=\"text-align: right;\">\n      <th></th>\n      <th>x1</th>\n      <th>x2</th>\n      <th>x3</th>\n      <th>x4</th>\n      <th>y</th>\n    </tr>\n  </thead>\n  <tbody>\n    <tr>\n      <th>x1</th>\n      <td>1.000000</td>\n      <td>-0.115152</td>\n      <td>0.080456</td>\n      <td>0.117670</td>\n      <td>0.822594</td>\n    </tr>\n    <tr>\n      <th>x2</th>\n      <td>-0.115152</td>\n      <td>1.000000</td>\n      <td>-0.164049</td>\n      <td>-0.224881</td>\n      <td>-0.627445</td>\n    </tr>\n    <tr>\n      <th>x3</th>\n      <td>0.080456</td>\n      <td>-0.164049</td>\n      <td>1.000000</td>\n      <td>0.075652</td>\n      <td>0.301941</td>\n    </tr>\n    <tr>\n      <th>x4</th>\n      <td>0.117670</td>\n      <td>-0.224881</td>\n      <td>0.075652</td>\n      <td>1.000000</td>\n      <td>0.218884</td>\n    </tr>\n    <tr>\n      <th>y</th>\n      <td>0.822594</td>\n      <td>-0.627445</td>\n      <td>0.301941</td>\n      <td>0.218884</td>\n      <td>1.000000</td>\n    </tr>\n  </tbody>\n</table>\n</div>"
          },
          "metadata": {}
        }
      ],
      "execution_count": null
    },
    {
      "cell_type": "code",
      "source": [
        "# x1과 x2만을 예측 변수로 사용하는 모델을 적합하고, 전체 모델과 R-squared 값을 구하시오.\n",
        "model_2 = smf.ols('y ~ x1 + x2', data = data).fit()\n",
        "model_2.summary()"
      ],
      "metadata": {
        "trusted": true,
        "execution": {
          "iopub.status.busy": "2025-06-19T14:45:34.679352Z",
          "iopub.execute_input": "2025-06-19T14:45:34.679735Z",
          "iopub.status.idle": "2025-06-19T14:45:34.717355Z",
          "shell.execute_reply.started": "2025-06-19T14:45:34.679684Z",
          "shell.execute_reply": "2025-06-19T14:45:34.71616Z"
        },
        "id": "rb9A70Dfq0r3",
        "outputId": "6bea61c7-de63-4413-d064-16094221235f"
      },
      "outputs": [
        {
          "execution_count": 27,
          "output_type": "execute_result",
          "data": {
            "text/plain": "<class 'statsmodels.iolib.summary.Summary'>\n\"\"\"\n                            OLS Regression Results                            \n==============================================================================\nDep. Variable:                      y   R-squared:                       0.964\nModel:                            OLS   Adj. R-squared:                  0.964\nMethod:                 Least Squares   F-statistic:                     1309.\nDate:                Thu, 19 Jun 2025   Prob (F-statistic):           6.67e-71\nTime:                        14:45:34   Log-Likelihood:                -186.16\nNo. Observations:                 100   AIC:                             378.3\nDf Residuals:                      97   BIC:                             386.1\nDf Model:                           2                                         \nCovariance Type:            nonrobust                                         \n==============================================================================\n                 coef    std err          t      P>|t|      [0.025      0.975]\n------------------------------------------------------------------------------\nIntercept      8.7356      0.914      9.559      0.000       6.922      10.549\nx1             2.0247      0.051     39.356      0.000       1.923       2.127\nx2            -1.5656      0.056    -27.941      0.000      -1.677      -1.454\n==============================================================================\nOmnibus:                       10.929   Durbin-Watson:                   1.966\nProb(Omnibus):                  0.004   Jarque-Bera (JB):                3.939\nSkew:                           0.132   Prob(JB):                        0.140\nKurtosis:                       2.064   Cond. No.                         92.5\n==============================================================================\n\nNotes:\n[1] Standard Errors assume that the covariance matrix of the errors is correctly specified.\n\"\"\"",
            "text/html": "<table class=\"simpletable\">\n<caption>OLS Regression Results</caption>\n<tr>\n  <th>Dep. Variable:</th>            <td>y</td>        <th>  R-squared:         </th> <td>   0.964</td>\n</tr>\n<tr>\n  <th>Model:</th>                   <td>OLS</td>       <th>  Adj. R-squared:    </th> <td>   0.964</td>\n</tr>\n<tr>\n  <th>Method:</th>             <td>Least Squares</td>  <th>  F-statistic:       </th> <td>   1309.</td>\n</tr>\n<tr>\n  <th>Date:</th>             <td>Thu, 19 Jun 2025</td> <th>  Prob (F-statistic):</th> <td>6.67e-71</td>\n</tr>\n<tr>\n  <th>Time:</th>                 <td>14:45:34</td>     <th>  Log-Likelihood:    </th> <td> -186.16</td>\n</tr>\n<tr>\n  <th>No. Observations:</th>      <td>   100</td>      <th>  AIC:               </th> <td>   378.3</td>\n</tr>\n<tr>\n  <th>Df Residuals:</th>          <td>    97</td>      <th>  BIC:               </th> <td>   386.1</td>\n</tr>\n<tr>\n  <th>Df Model:</th>              <td>     2</td>      <th>                     </th>     <td> </td>   \n</tr>\n<tr>\n  <th>Covariance Type:</th>      <td>nonrobust</td>    <th>                     </th>     <td> </td>   \n</tr>\n</table>\n<table class=\"simpletable\">\n<tr>\n      <td></td>         <th>coef</th>     <th>std err</th>      <th>t</th>      <th>P>|t|</th>  <th>[0.025</th>    <th>0.975]</th>  \n</tr>\n<tr>\n  <th>Intercept</th> <td>    8.7356</td> <td>    0.914</td> <td>    9.559</td> <td> 0.000</td> <td>    6.922</td> <td>   10.549</td>\n</tr>\n<tr>\n  <th>x1</th>        <td>    2.0247</td> <td>    0.051</td> <td>   39.356</td> <td> 0.000</td> <td>    1.923</td> <td>    2.127</td>\n</tr>\n<tr>\n  <th>x2</th>        <td>   -1.5656</td> <td>    0.056</td> <td>  -27.941</td> <td> 0.000</td> <td>   -1.677</td> <td>   -1.454</td>\n</tr>\n</table>\n<table class=\"simpletable\">\n<tr>\n  <th>Omnibus:</th>       <td>10.929</td> <th>  Durbin-Watson:     </th> <td>   1.966</td>\n</tr>\n<tr>\n  <th>Prob(Omnibus):</th> <td> 0.004</td> <th>  Jarque-Bera (JB):  </th> <td>   3.939</td>\n</tr>\n<tr>\n  <th>Skew:</th>          <td> 0.132</td> <th>  Prob(JB):          </th> <td>   0.140</td>\n</tr>\n<tr>\n  <th>Kurtosis:</th>      <td> 2.064</td> <th>  Cond. No.          </th> <td>    92.5</td>\n</tr>\n</table><br/><br/>Notes:<br/>[1] Standard Errors assume that the covariance matrix of the errors is correctly specified.",
            "text/latex": "\\begin{center}\n\\begin{tabular}{lclc}\n\\toprule\n\\textbf{Dep. Variable:}    &        y         & \\textbf{  R-squared:         } &     0.964   \\\\\n\\textbf{Model:}            &       OLS        & \\textbf{  Adj. R-squared:    } &     0.964   \\\\\n\\textbf{Method:}           &  Least Squares   & \\textbf{  F-statistic:       } &     1309.   \\\\\n\\textbf{Date:}             & Thu, 19 Jun 2025 & \\textbf{  Prob (F-statistic):} &  6.67e-71   \\\\\n\\textbf{Time:}             &     14:45:34     & \\textbf{  Log-Likelihood:    } &   -186.16   \\\\\n\\textbf{No. Observations:} &         100      & \\textbf{  AIC:               } &     378.3   \\\\\n\\textbf{Df Residuals:}     &          97      & \\textbf{  BIC:               } &     386.1   \\\\\n\\textbf{Df Model:}         &           2      & \\textbf{                     } &             \\\\\n\\textbf{Covariance Type:}  &    nonrobust     & \\textbf{                     } &             \\\\\n\\bottomrule\n\\end{tabular}\n\\begin{tabular}{lcccccc}\n                   & \\textbf{coef} & \\textbf{std err} & \\textbf{t} & \\textbf{P$> |$t$|$} & \\textbf{[0.025} & \\textbf{0.975]}  \\\\\n\\midrule\n\\textbf{Intercept} &       8.7356  &        0.914     &     9.559  &         0.000        &        6.922    &       10.549     \\\\\n\\textbf{x1}        &       2.0247  &        0.051     &    39.356  &         0.000        &        1.923    &        2.127     \\\\\n\\textbf{x2}        &      -1.5656  &        0.056     &   -27.941  &         0.000        &       -1.677    &       -1.454     \\\\\n\\bottomrule\n\\end{tabular}\n\\begin{tabular}{lclc}\n\\textbf{Omnibus:}       & 10.929 & \\textbf{  Durbin-Watson:     } &    1.966  \\\\\n\\textbf{Prob(Omnibus):} &  0.004 & \\textbf{  Jarque-Bera (JB):  } &    3.939  \\\\\n\\textbf{Skew:}          &  0.132 & \\textbf{  Prob(JB):          } &    0.140  \\\\\n\\textbf{Kurtosis:}      &  2.064 & \\textbf{  Cond. No.          } &     92.5  \\\\\n\\bottomrule\n\\end{tabular}\n%\\caption{OLS Regression Results}\n\\end{center}\n\nNotes: \\newline\n [1] Standard Errors assume that the covariance matrix of the errors is correctly specified."
          },
          "metadata": {}
        }
      ],
      "execution_count": null
    },
    {
      "cell_type": "code",
      "source": [
        "# 잔차(residual) 분석을 수행하고, 잔차의 표준편차를 구하시오.\n",
        "# 잔차 분석 수행\n",
        "residuals = model_full.resid\n",
        "print(\"\\n7. 잔차의 표준편차:\")\n",
        "print(residuals.std())"
      ],
      "metadata": {
        "trusted": true,
        "execution": {
          "iopub.status.busy": "2025-06-19T14:45:40.489416Z",
          "iopub.execute_input": "2025-06-19T14:45:40.490166Z",
          "iopub.status.idle": "2025-06-19T14:45:40.496877Z",
          "shell.execute_reply.started": "2025-06-19T14:45:40.490127Z",
          "shell.execute_reply": "2025-06-19T14:45:40.495512Z"
        },
        "id": "6VW5U9yCq0r3",
        "outputId": "7f92dc15-b182-4185-ec65-efe447c97790"
      },
      "outputs": [
        {
          "name": "stdout",
          "text": "\n7. 잔차의 표준편차:\n0.900184145185248\n",
          "output_type": "stream"
        }
      ],
      "execution_count": null
    },
    {
      "cell_type": "code",
      "source": [
        "# 9. 1번 모델에서 새로운 데이터에 대해 y의 예측구간 상한, 하한(97% 신뢰수준)을 구하세요.\n",
        "model_full.get_prediction(new_data).summary_frame(alpha=0.03)\n",
        "\n",
        "# mean: 0.243308 (예측된 평균값)\n",
        "# mean_se: 0.13477 (예측 평균의 표준 오차)\n",
        "# mean_ci_lower: -0.540231 (예측 평균의 신뢰 구간 하한)\n",
        "# mean_ci_upper: 0.053614 (예측 평균의 신뢰 구간 상한)\n",
        "# obs_ci_lower: -2.28955 (개별 관측치의 예측 구간 하한)\n",
        "# obs_ci_upper: 1.802934 (개별 관측치의 예측 구간 상한)"
      ],
      "metadata": {
        "trusted": true,
        "execution": {
          "iopub.status.busy": "2025-06-19T14:49:51.221882Z",
          "iopub.execute_input": "2025-06-19T14:49:51.222362Z",
          "iopub.status.idle": "2025-06-19T14:49:51.248907Z",
          "shell.execute_reply.started": "2025-06-19T14:49:51.222324Z",
          "shell.execute_reply": "2025-06-19T14:49:51.247524Z"
        },
        "id": "lRGyJd1zq0r3",
        "outputId": "87774f19-a1b0-497d-ba19-022864209e62"
      },
      "outputs": [
        {
          "execution_count": 33,
          "output_type": "execute_result",
          "data": {
            "text/plain": "       mean  mean_se  mean_ci_lower  mean_ci_upper  obs_ci_lower  obs_ci_upper\n0 -0.243308  0.13477      -0.540231       0.053614      -2.28955      1.802934",
            "text/html": "<div>\n<style scoped>\n    .dataframe tbody tr th:only-of-type {\n        vertical-align: middle;\n    }\n\n    .dataframe tbody tr th {\n        vertical-align: top;\n    }\n\n    .dataframe thead th {\n        text-align: right;\n    }\n</style>\n<table border=\"1\" class=\"dataframe\">\n  <thead>\n    <tr style=\"text-align: right;\">\n      <th></th>\n      <th>mean</th>\n      <th>mean_se</th>\n      <th>mean_ci_lower</th>\n      <th>mean_ci_upper</th>\n      <th>obs_ci_lower</th>\n      <th>obs_ci_upper</th>\n    </tr>\n  </thead>\n  <tbody>\n    <tr>\n      <th>0</th>\n      <td>-0.243308</td>\n      <td>0.13477</td>\n      <td>-0.540231</td>\n      <td>0.053614</td>\n      <td>-2.28955</td>\n      <td>1.802934</td>\n    </tr>\n  </tbody>\n</table>\n</div>"
          },
          "metadata": {}
        }
      ],
      "execution_count": null
    },
    {
      "cell_type": "code",
      "source": [
        "# 필요한 라이브러리 임포트\n",
        "import statsmodels.formula.api as smf\n",
        "\n",
        "# 1. 모든 변수를 사용하여 OLS 모델 적합\n",
        "model_full = smf.ols('y ~ x1 + x2 + x3 + x4', data=data).fit()\n",
        "print(\"1. 전체 모델:\")\n",
        "print(model_full.summary())\n",
        "\n",
        "# 2. 유의미하지 않은 변수를 제거한 후 모델 재적합\n",
        "# 유의미한 변수만 골라 새로운 모델 적합\n",
        "model_refit = smf.ols('y ~ x1 + x2 + x3', data=data).fit()\n",
        "print(\"\\n2. 유의미한 변수로 재적합한 모델:\")\n",
        "print(model_refit.summary())\n",
        "\n",
        "# 3. 초기 모델의 R-squared 값 계산\n",
        "print(\"\\n3. 초기 모델의 R-squared 값:\", model_refit.rsquared)\n",
        "\n",
        "# 4. 새로운 데이터(x1=5, x2=12, x3=10, x4=3)에 대해 y 예측\n",
        "new_data = pd.DataFrame({'x1': [5], 'x2': [12], 'x3': [10], 'x4': [3]})\n",
        "y_pred = model_full.predict(new_data)\n",
        "print(\"\\n4. 새로운 데이터 포인트에 대한 예측값:\", y_pred.iloc[0])\n",
        "\n",
        "# 5. 독립 변수 간의 상관관계 계산\n",
        "correlation_matrix = data.corr()\n",
        "print(\"\\n5. 예측 변수 간의 상관관계 행렬:\")\n",
        "print(correlation_matrix)\n",
        "\n",
        "# 6. x1과 x2만을 사용한 모델 적합 및 R-squared 값\n",
        "model_x1_x2 = smf.ols('y ~ x1 + x2', data=data).fit()\n",
        "print(\"\\n6. x1과 x2만 사용한 모델의 R-squared 값:\", model_x1_x2.rsquared)\n",
        "\n",
        "# 7. 잔차 분석 수행\n",
        "residuals = model_full.resid\n",
        "print(\"\\n7. 잔차의 표준편차:\")\n",
        "print(residuals.std())\n",
        "\n",
        "# 8. 1번 모델에서 새로운 데이터에 대해 y의 신뢰구간 하한(97% 신뢰수준)을 구하세요.\n",
        "pred_conf_int_97 = model_full.get_prediction(new_data).summary_frame(alpha=0.03)\n",
        "conf_lower_97 = pred_conf_int_97['mean_ci_lower'].iloc[0]\n",
        "print(\"10. y의 신뢰구간 하한(97% 신뢰수준):\", conf_lower_97)\n",
        "\n",
        "# 9. 1번 모델에서 새로운 데이터에 대해 y의 예측구간 상한(97% 신뢰수준)을 구하세요.\n",
        "pred_upper_97 = pred_conf_int_97['obs_ci_upper'].iloc[0]\n",
        "print(\"11. y의 예측구간 상한(97% 신뢰수준):\", pred_upper_97)\n"
      ],
      "metadata": {
        "trusted": true,
        "execution": {
          "iopub.status.busy": "2025-06-19T14:30:22.372573Z",
          "iopub.execute_input": "2025-06-19T14:30:22.373894Z",
          "iopub.status.idle": "2025-06-19T14:30:22.473782Z",
          "shell.execute_reply.started": "2025-06-19T14:30:22.373841Z",
          "shell.execute_reply": "2025-06-19T14:30:22.472047Z"
        },
        "id": "bY7tW4I8q0r4",
        "outputId": "03de50f6-2931-4b9d-9d8a-e095e9c4b79c"
      },
      "outputs": [
        {
          "name": "stdout",
          "text": "1. 전체 모델:\n                            OLS Regression Results                            \n==============================================================================\nDep. Variable:                      y   R-squared:                       0.988\nModel:                            OLS   Adj. R-squared:                  0.988\nMethod:                 Least Squares   F-statistic:                     1984.\nDate:                Thu, 19 Jun 2025   Prob (F-statistic):           1.39e-90\nTime:                        14:30:22   Log-Likelihood:                -130.88\nNo. Observations:                 100   AIC:                             271.8\nDf Residuals:                      95   BIC:                             284.8\nDf Model:                           4                                         \nCovariance Type:            nonrobust                                         \n==============================================================================\n                 coef    std err          t      P>|t|      [0.025      0.975]\n------------------------------------------------------------------------------\nIntercept      2.9816      0.740      4.029      0.000       1.512       4.451\nx1             1.9979      0.030     66.384      0.000       1.938       2.058\nx2            -1.4924      0.034    -44.274      0.000      -1.559      -1.425\nx3             0.4633      0.033     13.837      0.000       0.397       0.530\nx4             0.0203      0.078      0.260      0.796      -0.135       0.175\n==============================================================================\nOmnibus:                        2.161   Durbin-Watson:                   1.921\nProb(Omnibus):                  0.340   Jarque-Bera (JB):                1.718\nSkew:                           0.313   Prob(JB):                        0.424\nKurtosis:                       3.140   Cond. No.                         155.\n==============================================================================\n\nNotes:\n[1] Standard Errors assume that the covariance matrix of the errors is correctly specified.\n\n2. 유의미한 변수로 재적합한 모델:\n                            OLS Regression Results                            \n==============================================================================\nDep. Variable:                      y   R-squared:                       0.988\nModel:                            OLS   Adj. R-squared:                  0.988\nMethod:                 Least Squares   F-statistic:                     2672.\nDate:                Thu, 19 Jun 2025   Prob (F-statistic):           2.55e-92\nTime:                        14:30:22   Log-Likelihood:                -130.91\nNo. Observations:                 100   AIC:                             269.8\nDf Residuals:                      96   BIC:                             280.2\nDf Model:                           3                                         \nCovariance Type:            nonrobust                                         \n==============================================================================\n                 coef    std err          t      P>|t|      [0.025      0.975]\n------------------------------------------------------------------------------\nIntercept      3.0628      0.667      4.589      0.000       1.738       4.388\nx1             1.9986      0.030     67.020      0.000       1.939       2.058\nx2            -1.4942      0.033    -45.529      0.000      -1.559      -1.429\nx3             0.4636      0.033     13.923      0.000       0.398       0.530\n==============================================================================\nOmnibus:                        2.285   Durbin-Watson:                   1.931\nProb(Omnibus):                  0.319   Jarque-Bera (JB):                1.836\nSkew:                           0.324   Prob(JB):                        0.399\nKurtosis:                       3.140   Cond. No.                         138.\n==============================================================================\n\nNotes:\n[1] Standard Errors assume that the covariance matrix of the errors is correctly specified.\n\n3. 초기 모델의 R-squared 값: 0.9881643592045125\n\n4. 새로운 데이터 포인트에 대한 예측값: -0.2433084582017353\n\n5. 예측 변수 간의 상관관계 행렬:\n          x1        x2        x3        x4         y\nx1  1.000000 -0.115152  0.080456  0.117670  0.822594\nx2 -0.115152  1.000000 -0.164049 -0.224881 -0.627445\nx3  0.080456 -0.164049  1.000000  0.075652  0.301941\nx4  0.117670 -0.224881  0.075652  1.000000  0.218884\ny   0.822594 -0.627445  0.301941  0.218884  1.000000\n\n6. x1과 x2만 사용한 모델의 R-squared 값: 0.9642665748957848\n\n7. 잔차의 표준편차:\n0.900184145185248\n10. y의 신뢰구간 하한(97% 신뢰수준): -0.5402306644367539\n11. y의 예측구간 상한(97% 신뢰수준): 1.8029335568740665\n",
          "output_type": "stream"
        }
      ],
      "execution_count": null
    },
    {
      "cell_type": "code",
      "source": [],
      "metadata": {
        "trusted": true,
        "id": "GlFWy1-4q0r4"
      },
      "outputs": [],
      "execution_count": null
    }
  ]
}